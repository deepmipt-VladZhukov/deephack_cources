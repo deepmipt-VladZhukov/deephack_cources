{
 "cells": [
  {
   "cell_type": "code",
   "execution_count": 1,
   "metadata": {
    "collapsed": true
   },
   "outputs": [],
   "source": [
    "#based https://github.com/jaara/ai_examples/blob/master/open_gym/MountainCar-v0.py\n",
    "#Vlad Zhukov\n",
    "import random, numpy, math\n",
    "import gym\n",
    "import tensorflow as tf\n",
    "import numpy as np\n",
    "import datetime\n",
    "from time import gmtime, strftime"
   ]
  },
  {
   "cell_type": "code",
   "execution_count": 2,
   "metadata": {
    "collapsed": false
   },
   "outputs": [
    {
     "name": "stderr",
     "output_type": "stream",
     "text": [
      "[2016-11-16 00:24:00,402] Making new env: MountainCar-v0\n"
     ]
    },
    {
     "name": "stdout",
     "output_type": "stream",
     "text": [
      "[-1.2  -0.07] [ 0.6   0.07]\n"
     ]
    }
   ],
   "source": [
    "PROBLEM = 'MountainCar-v0'\n",
    "env =  gym.make(PROBLEM)\n",
    "high = env.observation_space.high\n",
    "low = env.observation_space.low\n",
    "print(low, high)\n",
    "mean = (high + low) / 2\n",
    "spread = abs(high - low) / 2\n",
    "def normalize(s):\n",
    "    return (s - mean) / spread"
   ]
  },
  {
   "cell_type": "code",
   "execution_count": null,
   "metadata": {
    "collapsed": false
   },
   "outputs": [],
   "source": [
    "class My_model:\n",
    "    def __init__(self, sess, name):\n",
    "        self.sess = sess\n",
    "        self.X = tf.placeholder(tf.float32, [None, 2], name=name + \"X\") \n",
    "        self.Y = tf.placeholder(tf.float32, [None, 2], name=name + \"Y\")\n",
    "        self.w1 = tf.Variable(tf.truncated_normal([2, 256],stddev = 0.1), name=name + \"w1\")\n",
    "#         with tf.Session() as sess:\n",
    "#             tf.initialize_all_variables().run()\n",
    "#             print (sess.run(self.w1).shape)\n",
    "#             print (sess.run(self.X, feed_dict={self.X: [[1., 1.]]}).shape)\n",
    "#             print (sess.run(tf.matmul(self.X, self.w1), feed_dict={self.X: [[1., 1.]]}).shape)\n",
    "        self.b1 = tf.Variable(tf.zeros([256]), name=name + \"b1\")\n",
    "        self.y1 = tf.nn.relu(tf.matmul(self.X, self.w1) + self.b1, name=name +\"y1\")\n",
    "        \n",
    "        self.w2 = tf.Variable(tf.truncated_normal([256, 2], stddev = 0.1), name=name+\"w2\")\n",
    "        self.b2 = tf.Variable(tf.zeros([2]), name=name+\"b2\")\n",
    "        self.y_model = tf.matmul(self.y1, self.w2) + self.b2#tf.nn.softmax(tf.matmul(self.y1, self.w2) + self.b2, name=name+\"y_model\")\n",
    "        \n",
    "        \n",
    "        self.cost = tf.reduce_mean(tf.nn.softmax_cross_entropy_with_logits(self.y_model, self.Y), name=name + \"cost\")#tf.reduce_sum(tf.square(self.Y - self.y_model))\n",
    "        \n",
    "        self.train_op = tf.train.RMSPropOptimizer(0.1).minimize(self.cost, name=name + \"train_op\")\n",
    "#         self.train_op = tf.train.GradientDescentOptimizer(0.1).minimize(self.cost, name=name + \"train_op\") \n",
    "    def predict(self, s):\n",
    "#         print (self.sess.run(self.w1))\n",
    "        return self.sess.run(self.y_model, feed_dict={self.X: s})\n",
    "    def train(self, trX, trY):\n",
    "    # you need to initialize variables (in this case just variable W)\n",
    "#         print(self.sess.run(Y, feed_dict={X:trX, Y: trY}))\n",
    "#         for i in range(100):\n",
    "        for (x, y) in zip(trX, trY):\n",
    "            self.sess.run(self.train_op, feed_dict={self.X: [x], self.Y: [y]})\n",
    "#                 print(self.sess.run(self.cost, feed_dict={self.X:trX, self.Y:trY}))\n",
    "#     def save(self):\n",
    "\n",
    "class Brain:\n",
    "    def __init__(self, stateCnt, actionCnt, sess):\n",
    "        self.stateCnt = stateCnt\n",
    "        self.actionCnt = actionCnt\n",
    "        self.sess = sess\n",
    "        self.model = My_model(sess, \"model1\")\n",
    "        self.model_ = My_model(sess, \"model2\")\n",
    "    def predict(self, s, target = False):\n",
    "        if target:\n",
    "#             return sess.run(model_.y_model, feed_dict={X: s})\n",
    "            return self.model.predict(s)\n",
    "        else:\n",
    "#             return sess.run(model.y_model, feed_dict={X:s})\n",
    "            return self.model_.predict(s)\n",
    "    def print_w(self):\n",
    "        print (self.sess.run([self.model.w, self.model_.w]))\n",
    "    def train(self, trX, trY):\n",
    "        self.model.train(trX, trY)\n",
    "    def updateTargetModel(self):\n",
    "        self.model_.w1.assign(self.model.w1)\n",
    "        self.model_.w2.assign(self.model.w2)\n",
    "        self.model_.b1.assign(self.model.b1)\n",
    "        self.model_.b2.assign(self.model.b2)\n",
    "    def save(self):\n",
    "#         self.model.save()\n",
    "#         self.model_.save()\n",
    "        saver = tf.train.Saver()\n",
    "        save_path = saver.save(self.sess, \"saves/model1\" + \".ckpt\")\n",
    "        print(\"Model saved in file: %s\" % save_path)\n",
    "    def load(self, sess, name):\n",
    "        saver = tf.train.Saver()\n",
    "        saver.restore(sess, name)"
   ]
  },
  {
   "cell_type": "code",
   "execution_count": null,
   "metadata": {
    "collapsed": false
   },
   "outputs": [],
   "source": [
    "# strftime(\"%Y-%m-%d %H:%M:%S\", gmtime())"
   ]
  },
  {
   "cell_type": "code",
   "execution_count": null,
   "metadata": {
    "collapsed": false,
    "scrolled": true
   },
   "outputs": [],
   "source": [
    "with tf.Session() as sess:\n",
    "#My_model(sess)\n",
    "    model = Brain(2, 2, sess)\n",
    "    init = tf.initialize_all_variables()\n",
    "#     ckpt = tf.train.get_checkpoint_state(\"saves/model1.ckpt\")\n",
    "    ckpt = tf.train.get_checkpoint_state(\"saves/\")\n",
    "#     print (ckpt)\n",
    "    model.load(sess, ckpt.model_checkpoint_path)\n",
    "    sess.run(init)\n",
    "#     print (model.print_w())\n",
    "    \n",
    "    print (model.predict([[1., 1.]], target = True))\n",
    "#     model.predict([1, 1])\n",
    "#     print (model.print_w())\n",
    "#     model.train([[1, 1]],[[0.1, 0.5]])\n",
    "#     model.save()\n",
    "    print (model.predict([[1., 1.]], target = True))\n",
    "#     print (model.print_w())"
   ]
  },
  {
   "cell_type": "code",
   "execution_count": null,
   "metadata": {
    "collapsed": true
   },
   "outputs": [],
   "source": [
    "class Memory:   # stored as ( s, a, r, s_ )\n",
    "    samples = []\n",
    "\n",
    "    def __init__(self, capacity):\n",
    "        self.capacity = capacity\n",
    "\n",
    "    def add(self, sample):\n",
    "        self.samples.append(sample)        \n",
    "\n",
    "        if len(self.samples) > self.capacity:\n",
    "            self.samples.pop(0)\n",
    "\n",
    "    def sample(self, n):\n",
    "        n = min(n, len(self.samples))\n",
    "        return random.sample(self.samples, n)\n",
    "    \n",
    "MEMORY_CAPACITY = 100000\n",
    "BATCH_SIZE = 32\n",
    "GAMMA = 0.99\n",
    "MAX_EPSILON = 0.8\n",
    "MIN_EPSILON = 0.1\n",
    "LAMBDA = 0.0001      # speed of decay\n",
    "UPDATE_TARGET_FREQUENCY = 10000\n",
    "\n",
    "class Agent:\n",
    "    def __init__(self, stateCnt, actionCnt, sess):\n",
    "        self.stateCnt = stateCnt\n",
    "        self.actionCnt = actionCnt\n",
    "        self.brain = Brain(stateCnt, actionCnt, sess)\n",
    "        self.memory = Memory(MEMORY_CAPACITY)\n",
    "        \n",
    "    def observe(self, sample):  # in (s, a, r, s_) format\n",
    "        self.memory.add(sample)        \n",
    "\n",
    "    def act(self, s):\n",
    "        if random.random() < self.epsilon:\n",
    "            return random.randint(0, self.actionCnt-1)\n",
    "        else:\n",
    "            return numpy.argmax(self.brain.predict(s))\n",
    "        \n",
    "    steps = 0\n",
    "    epsilon = MAX_EPSILON\n",
    "    def replay(self):\n",
    "        if self.steps % UPDATE_TARGET_FREQUENCY == 0:\n",
    "            self.brain.updateTargetModel()\n",
    "\n",
    "        # slowly decrease Epsilon based on our eperience\n",
    "        self.steps += 1\n",
    "        self.epsilon = MIN_EPSILON + (MAX_EPSILON - MIN_EPSILON) * math.exp(-LAMBDA * self.steps)\n",
    "        print(self.epsilon)\n",
    "        batch = self.memory.sample(BATCH_SIZE)\n",
    "        batchLen = len(batch)\n",
    "\n",
    "        states = numpy.array([ o[0] for o in batch ])\n",
    "        states_ = numpy.array([ ([0,0] if o[3] is None else o[3]) for o in batch ])\n",
    "\n",
    "        p = agent.brain.predict(states)\n",
    "        p_ = agent.brain.predict(states_, target=True)\n",
    "\n",
    "        x = numpy.zeros((batchLen, self.stateCnt))\n",
    "        y = numpy.zeros((batchLen, self.actionCnt))\n",
    "        \n",
    "        for i in range(batchLen):\n",
    "            o = batch[i]\n",
    "            s = o[0]; a = o[1]; r = o[2]; s_ = o[3]\n",
    "            \n",
    "            t = p[i]\n",
    "            if s_ is None:\n",
    "                t[a] = r\n",
    "            else:\n",
    "                # t[a] = r + GAMMA * numpy.amax(p_[i])          # single DQN\n",
    "                t[a] = r + GAMMA * p_[i][ numpy.argmax(p[i]) ]  # double DQN\n",
    "\n",
    "            x[i] = s\n",
    "            y[i] = t            \n",
    "\n",
    "        self.brain.train(x, y)\n"
   ]
  },
  {
   "cell_type": "code",
   "execution_count": null,
   "metadata": {
    "collapsed": false,
    "scrolled": true
   },
   "outputs": [],
   "source": [
    "def run(agent):\n",
    "    s = normalize(env.reset())\n",
    "#     print(s)\n",
    "    R = 0\n",
    "    step = 0\n",
    "    memory = list()\n",
    "    tf.initialize_all_variables().run()\n",
    "    while True:\n",
    "#         env.render()\n",
    "#         print(s)\n",
    "        a =agent.act([s]) \n",
    "        print (a)\n",
    "    #     print (a)\n",
    "    #     print (sess.run(w))\n",
    "    #     print(a)\n",
    "        a_ = 0\n",
    "        if a == 1: \n",
    "            a_ = 2\n",
    "        s_, r, done, info = env.step(a_)\n",
    "        s_ = normalize(s_)\n",
    "        if done: # terminal state\n",
    "            s_ = None\n",
    "        agent.observe((s, a, r, s_))\n",
    "        s = s_\n",
    "        R += r\n",
    "        agent.replay()       \n",
    "        step += 1\n",
    "        if done:\n",
    "            break"
   ]
  },
  {
   "cell_type": "code",
   "execution_count": null,
   "metadata": {
    "collapsed": false,
    "scrolled": true
   },
   "outputs": [],
   "source": [
    "stateCnt  = env.observation_space.shape[0]\n",
    "actionCnt = 2\n",
    "with tf.Session() as sess:\n",
    "    env.monitor.start('MounrainCarRecords', force=True)\n",
    "    agent = Agent(stateCnt, actionCnt, sess)\n",
    "    while True:\n",
    "        run(agent)\n",
    "env.monitor.close()"
   ]
  },
  {
   "cell_type": "code",
   "execution_count": null,
   "metadata": {
    "collapsed": false
   },
   "outputs": [],
   "source": [
    "env.monitor.close()\n",
    "env.close()\n"
   ]
  },
  {
   "cell_type": "code",
   "execution_count": 4,
   "metadata": {
    "collapsed": false
   },
   "outputs": [
    {
     "name": "stderr",
     "output_type": "stream",
     "text": [
      "[2016-11-16 00:26:45,516] [MountainCar-v0] Uploading 3186 episodes of training data\n",
      "[2016-11-16 00:27:01,505] [MountainCar-v0] Uploading videos of 13 training episodes (509084 bytes)\n",
      "[2016-11-16 00:28:01,878] [MountainCar-v0] Creating evaluation object from /Users/vlad/Documents/my_git_hub/DeepHack/RL/NN_agent/MounrainCarRecords with learning curve and training video\n",
      "[2016-11-16 00:28:03,037] \n",
      "****************************************************\n",
      "You successfully uploaded your evaluation on MountainCar-v0 to\n",
      "OpenAI Gym! You can find it at:\n",
      "\n",
      "    https://gym.openai.com/evaluations/eval_tXdiYpNlQBaMhSqxKb4g\n",
      "\n",
      "****************************************************\n"
     ]
    }
   ],
   "source": [
    "gym.upload('/Users/vlad/Documents/my_git_hub/DeepHack/RL/NN_agent/MounrainCarRecords', api_key='sk_4uOH7kK2R1SHIQlkRZotRw')"
   ]
  }
 ],
 "metadata": {
  "kernelspec": {
   "display_name": "py3.4",
   "language": "python",
   "name": "py3.4"
  },
  "language_info": {
   "codemirror_mode": {
    "name": "ipython",
    "version": 3
   },
   "file_extension": ".py",
   "mimetype": "text/x-python",
   "name": "python",
   "nbconvert_exporter": "python",
   "pygments_lexer": "ipython3",
   "version": "3.4.1"
  }
 },
 "nbformat": 4,
 "nbformat_minor": 1
}
